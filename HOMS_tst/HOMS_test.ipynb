{
 "cells": [
  {
   "cell_type": "code",
   "execution_count": null,
   "metadata": {},
   "outputs": [],
   "source": [
    "from pcdsdevices.mirror import OffsetMirror\n",
    "from pcdsdevices.mirror import PointingMirror\n",
    "import datetime\n",
    "from functions import *\n",
    "\n",
    "import logging\n",
    "# create logger\n",
    "level = logging.INFO\n",
    "log_format = '%(asctime)s - %(name)s - %(levelname)s - %(message)s'\n",
    "handlers = [logging.FileHandler('HOMS_test.log'), logging.StreamHandler()]\n",
    "logging.basicConfig(level = level, format = log_format, handlers = handlers)\n",
    "logger = logging.getLogger(__name__)\n",
    "logger.info(\"\\nTest initiated at: %s\\n\" %datetime.datetime.now().strftime(\"%Y-%m-%d %H:%M\"))"
   ]
  },
  {
   "cell_type": "code",
   "execution_count": null,
   "metadata": {},
   "outputs": [],
   "source": [
    "if get_user_confirmation() == False:\n",
    "    import sys; sys.exit(\"aa! exit!!\")"
   ]
  },
  {
   "cell_type": "code",
   "execution_count": null,
   "metadata": {},
   "outputs": [],
   "source": [
    "fee_m1 = OffsetMirror('FEE1:M1H', name='fee_m1', prefix_xy='STEP:M1H', xgantry_prefix='STEP:FEE1:611:MOTR')\n",
    "fee_m2 = OffsetMirror('FEE1:M2H', name='fee_m2', prefix_xy='STEP:M2H', xgantry_prefix='STEP:FEE1:861:MOTR')\n",
    "xrt_m1 = PointingMirror('XRT:M1H', name='xrt_m1')\n",
    "xrt_m2 = PointingMirror('XRT:M2H', name='xrt_m2')\n",
    "xrt_m3 = OffsetMirror('XRT:M3H', name='xrt_m3')"
   ]
  },
  {
   "cell_type": "code",
   "execution_count": null,
   "metadata": {},
   "outputs": [],
   "source": [
    "while True:\n",
    "    try:\n",
    "        which_mirror = int(input(\"which mirror do you want to use?\\n press:\\n 1 -> fee_m1; 2 -> fee_m2; 3 -> xrt_m1; 4 -> xrt_m2; 5  -> xrt_m3.\"))\n",
    "    except ValueError:\n",
    "        print (\"sorry, I didn't understand that\")\n",
    "        continue\n",
    "    if not which_mirror in range (1,6):\n",
    "        print(\"sorry, it's not one of possible inputs\")\n",
    "        continue\n",
    "    else:\n",
    "        break\n",
    "        \n",
    "which_mirror_dict = {1: fee_m1, 2:fee_m2, 3:xrt_m1, 4:xrt_m2, 5:xrt_m3}\n",
    "test_object = which_mirror_dict[which_mirror]\n",
    "logger.info(\"\\tusing %s mirror\" %test_object.name)\n",
    "# general timeout\n",
    "test_object.xgantry.timeout = 300\n",
    "test_object.yganry.timeout = 300\n",
    "test_object.pitch.timetou = 300"
   ]
  },
  {
   "cell_type": "code",
   "execution_count": null,
   "metadata": {},
   "outputs": [],
   "source": [
    "# FOR ALL AXES\n",
    "logger.info(\"\\t%.4f recording original position...\\n\" %test_object.xgantry.readback.timestamp)\n",
    "initial_mirror_angle = test_object.pitch()\n",
    "mirror_angle_unit = test_object.pitch.egu\n",
    "initial_xgantry_value = test_object.xgantry()\n",
    "initial_ygantry_value = test_object.ygantry()\n",
    "gantry_value_unit = test_object.xgantry.egu\n",
    "logger.info(\"initial mirror angle is %.4f %s\" %(initial_mirror_angle, test_object.pitch.egu))\n",
    "logger.info(\"initial xgantry value is %.4f %s\" %(initial_xgantry_value, test_object.xgantry.egu))\n",
    "logger.info(\"initial ygantry value is %.4f %s\" %(initial_ygantry_value, test_object.ygantry.egu))"
   ]
  },
  {
   "cell_type": "markdown",
   "metadata": {},
   "source": [
    "# X and y checks"
   ]
  },
  {
   "cell_type": "code",
   "execution_count": null,
   "metadata": {
    "scrolled": true
   },
   "outputs": [],
   "source": [
    "verify_axes_coupled(test_object)"
   ]
  },
  {
   "cell_type": "code",
   "execution_count": null,
   "metadata": {
    "scrolled": true
   },
   "outputs": [],
   "source": [
    "get_gantry_difference(test_object)"
   ]
  },
  {
   "cell_type": "code",
   "execution_count": null,
   "metadata": {},
   "outputs": [],
   "source": [
    "# get 10 second average noise level for x and y position\n",
    "avg_noise_level(test_object.xgantry)\n",
    "avg_noise_level(test_object.ygantry)"
   ]
  },
  {
   "cell_type": "markdown",
   "metadata": {},
   "source": [
    "Request a move, 0.5mm\n",
    "Record: final settled value of primary axis, final gantry difference, time for move to complete"
   ]
  },
  {
   "cell_type": "code",
   "execution_count": null,
   "metadata": {},
   "outputs": [],
   "source": [
    "# running the test with 5 mins timeout\n",
    "gantry_checks(test_object.xgantry, 0.5, initial_xgantry_value)"
   ]
  },
  {
   "cell_type": "code",
   "execution_count": null,
   "metadata": {},
   "outputs": [],
   "source": [
    "gantry_checks(test_object.ygantry, 0.5, initial_ygantry_value)"
   ]
  },
  {
   "cell_type": "markdown",
   "metadata": {},
   "source": [
    "# Pitch checks"
   ]
  },
  {
   "cell_type": "markdown",
   "metadata": {},
   "source": [
    "Record 10 second average noise level"
   ]
  },
  {
   "cell_type": "code",
   "execution_count": null,
   "metadata": {},
   "outputs": [],
   "source": [
    "avg_noise_level(test_object.pitch)"
   ]
  },
  {
   "cell_type": "markdown",
   "metadata": {},
   "source": [
    "Record time for small move (ie. move within piezo range [~20 nrad])"
   ]
  },
  {
   "cell_type": "code",
   "execution_count": null,
   "metadata": {
    "scrolled": true
   },
   "outputs": [],
   "source": [
    "rec_time_for_a_move(test_object, 20/1000)"
   ]
  },
  {
   "cell_type": "markdown",
   "metadata": {},
   "source": [
    "Record time for large move (ie. move > 60 nrad)"
   ]
  },
  {
   "cell_type": "code",
   "execution_count": null,
   "metadata": {},
   "outputs": [],
   "source": [
    "rec_time_for_a_move(test_object, 100/1000)"
   ]
  },
  {
   "cell_type": "markdown",
   "metadata": {},
   "source": [
    "# for all axes"
   ]
  },
  {
   "cell_type": "markdown",
   "metadata": {},
   "source": [
    "Request a large move, change request before move is complete (small delay), verify target change is accepted and final position matches second command\n"
   ]
  },
  {
   "cell_type": "markdown",
   "metadata": {},
   "source": [
    "xgantry"
   ]
  },
  {
   "cell_type": "code",
   "execution_count": null,
   "metadata": {},
   "outputs": [],
   "source": [
    "low_lim, hi_lim = low_high_limit(test_object.xgantry)\n",
    "request_changeRequest(test_object.xgantry, initial_xgantry_value, hi_lim - 1, hi_lim - 0.4)"
   ]
  },
  {
   "cell_type": "markdown",
   "metadata": {},
   "source": [
    "ygantry"
   ]
  },
  {
   "cell_type": "code",
   "execution_count": null,
   "metadata": {},
   "outputs": [],
   "source": [
    "low_lim, hi_lim = low_high_limit(test_object.ygantry)\n",
    "request_changeRequest(test_object.ygantry, initial_ygantry_value, hi_lim - 1, hi_lim - 0.4)"
   ]
  },
  {
   "cell_type": "markdown",
   "metadata": {},
   "source": [
    "pitch"
   ]
  },
  {
   "cell_type": "code",
   "execution_count": null,
   "metadata": {},
   "outputs": [],
   "source": [
    "low_lim, hi_lim = low_high_limit(test_object.pitch.position)\n",
    "request_changeRequest(test_object.pitch, initial_mirror_angle, hi_lim -1, hi_lim - 0.4 )"
   ]
  },
  {
   "cell_type": "code",
   "execution_count": null,
   "metadata": {},
   "outputs": [],
   "source": [
    "# Restore all axes to original position\n",
    "logger.info(\"restoring x value to original position...\")\n",
    "test_object.xgantry.move(initial_xgantry_value)\n",
    "logger.info(\"restoring y value to original position...\")\n",
    "test_object.ygantry.move(initial_ygantry_value)\n",
    "logger.info(\"restoring pitch to original position...\")\n",
    "test_object.pitch.move(initial_mirror_angle)\n",
    "logger.info(\"done\")"
   ]
  },
  {
   "cell_type": "code",
   "execution_count": null,
   "metadata": {},
   "outputs": [],
   "source": []
  }
 ],
 "metadata": {
  "kernelspec": {
   "display_name": "Python 3",
   "language": "python",
   "name": "python3"
  },
  "language_info": {
   "codemirror_mode": {
    "name": "ipython",
    "version": 3
   },
   "file_extension": ".py",
   "mimetype": "text/x-python",
   "name": "python",
   "nbconvert_exporter": "python",
   "pygments_lexer": "ipython3",
   "version": "3.6.5"
  }
 },
 "nbformat": 4,
 "nbformat_minor": 2
}
